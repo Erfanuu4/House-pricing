{
 "cells": [
  {
   "cell_type": "code",
   "execution_count": null,
   "id": "6016056a",
   "metadata": {},
   "outputs": [],
   "source": [
    "import pandas as pd\n",
    "import matplotlib.pyplot as plt\n",
    "import seaborn as sns\n",
    "import numpy as np"
   ]
  },
  {
   "cell_type": "code",
   "execution_count": null,
   "id": "ab8709e1",
   "metadata": {},
   "outputs": [],
   "source": [
    "df=pd.read_csv(r\"E:\\project\\ggithubp\\boston-housing\\HousingDataboston.csv\")"
   ]
  },
  {
   "cell_type": "code",
   "execution_count": null,
   "id": "017e8c6f",
   "metadata": {},
   "outputs": [],
   "source": [
    "df.info()"
   ]
  },
  {
   "cell_type": "code",
   "execution_count": null,
   "id": "23c054bc",
   "metadata": {},
   "outputs": [],
   "source": [
    "df.describe().T"
   ]
  },
  {
   "cell_type": "code",
   "execution_count": null,
   "id": "75c94bb4",
   "metadata": {},
   "outputs": [],
   "source": [
    "for i in df.columns:\n",
    "    plt.Figure(figsize=(5,5))\n",
    "    sns.histplot(data=df,x=i,kde = True)\n",
    "    plt.show()"
   ]
  },
  {
   "cell_type": "code",
   "execution_count": null,
   "id": "e18bfecf",
   "metadata": {},
   "outputs": [],
   "source": [
    "df[\"medv-log\"]=np.log(df[['MEDV']])"
   ]
  },
  {
   "cell_type": "code",
   "execution_count": null,
   "id": "2ec5f6b1",
   "metadata": {},
   "outputs": [],
   "source": [
    "sns.histplot(data=df,x=\"medv-log\",kde=True)"
   ]
  },
  {
   "cell_type": "code",
   "execution_count": null,
   "id": "b11ce93f",
   "metadata": {},
   "outputs": [],
   "source": [
    "plt.figure(figsize=(12,8))\n",
    "cmap= sns.diverging_palette(250,10,as_cmap=True)\n",
    "sns.heatmap(df.corr(), annot=True,cmap=cmap,fmt=\".2f\")\n",
    "plt.show()"
   ]
  },
  {
   "cell_type": "code",
   "execution_count": null,
   "id": "1b3b5436",
   "metadata": {},
   "outputs": [],
   "source": [
    "plt.Figure(figsize=(7,7))\n",
    "sns.scatterplot(data=df,x=\"RAD\",y=\"TAX\")\n",
    "plt.show()"
   ]
  },
  {
   "cell_type": "code",
   "execution_count": null,
   "id": "55fb3f09",
   "metadata": {},
   "outputs": [],
   "source": [
    "df2 = df[(df['TAX'] > 600) & (df['RAD'] > 17)]\n",
    "df3 = df[(df['TAX'] < 600) & (df['RAD'] < 17)]"
   ]
  },
  {
   "cell_type": "code",
   "execution_count": null,
   "id": "62b29673",
   "metadata": {},
   "outputs": [],
   "source": [
    "print(\"Values ​​of the first cluster of RAD variable:\",df2[\"RAD\"].unique())\n",
    "print(\"Values ​​of the first cluster of TAX variable:\",df2[\"TAX\"].unique())\n",
    "print(\"Correlation coefficient between these two variables in the first cluster:\",df2[\"RAD\"].corr(df2['TAX']))"
   ]
  },
  {
   "cell_type": "code",
   "execution_count": null,
   "id": "3d56b30f",
   "metadata": {},
   "outputs": [],
   "source": [
    "print(\"Values ​​of the second cluster of RAD variable:\",df3[\"RAD\"].unique())\n",
    "print(\"Values ​​of the second cluster of TAX variable:\",df3[\"TAX\"].unique())\n",
    "print(\"Correlation coefficient between these two variables in the second cluster:\",df3[\"RAD\"].corr(df3['TAX']))"
   ]
  },
  {
   "cell_type": "code",
   "execution_count": null,
   "id": "fb448000",
   "metadata": {},
   "outputs": [],
   "source": [
    "plt.Figure(figsize=(7,7))\n",
    "sns.scatterplot(data=df,x=\"NOX\",y=\"INDUS\")\n",
    "plt.show()"
   ]
  },
  {
   "cell_type": "code",
   "execution_count": null,
   "id": "7aa86da0",
   "metadata": {},
   "outputs": [],
   "source": [
    "plt.Figure(figsize=(7,7))\n",
    "sns.scatterplot(data=df,x=\"INDUS\",y=\"DIS\")\n",
    "plt.show()"
   ]
  },
  {
   "cell_type": "code",
   "execution_count": null,
   "id": "d0d738e4",
   "metadata": {},
   "outputs": [],
   "source": [
    "plt.Figure(figsize=(7,7))\n",
    "sns.scatterplot(data=df,x=\"INDUS\",y=\"TAX\")\n",
    "plt.show()"
   ]
  },
  {
   "cell_type": "code",
   "execution_count": null,
   "id": "15f15a41",
   "metadata": {},
   "outputs": [],
   "source": [
    "plt.Figure(figsize=(7,7))\n",
    "sns.scatterplot(data=df,x=\"AGE\",y=\"NOX\")\n",
    "plt.show()"
   ]
  },
  {
   "cell_type": "code",
   "execution_count": null,
   "id": "9b5a903e",
   "metadata": {},
   "outputs": [],
   "source": [
    "plt.Figure(figsize=(7,7))\n",
    "sns.scatterplot(data=df,x=\"DIS\",y=\"NOX\")\n",
    "plt.show()"
   ]
  },
  {
   "cell_type": "code",
   "execution_count": null,
   "id": "7fb3512d",
   "metadata": {},
   "outputs": [],
   "source": [
    "plt.Figure(figsize=(7,7))\n",
    "sns.scatterplot(data=df,x=\"AGE\",y=\"DIS\")\n",
    "plt.show()"
   ]
  },
  {
   "cell_type": "code",
   "execution_count": null,
   "id": "6cc9be2d",
   "metadata": {},
   "outputs": [],
   "source": [
    "plt.Figure(figsize=(7,7))\n",
    "sns.scatterplot(data=df,x=\"MEDV\",y=\"LSTAT\")\n",
    "plt.show()"
   ]
  },
  {
   "cell_type": "code",
   "execution_count": null,
   "id": "1c379887",
   "metadata": {},
   "outputs": [],
   "source": [
    "plt.Figure(figsize=(7,7))\n",
    "sns.scatterplot(data=df,x=\"MEDV\",y=\"RM\")\n",
    "plt.show()"
   ]
  },
  {
   "cell_type": "code",
   "execution_count": null,
   "id": "79eaf13a",
   "metadata": {},
   "outputs": [],
   "source": [
    "from sklearn.preprocessing import robust_scale\n",
    "Y=df[\"medv-log\"]\n",
    "X=df.drop(columns={\"MEDV\",\"medv-log\"})"
   ]
  },
  {
   "cell_type": "code",
   "execution_count": null,
   "id": "0e186d14",
   "metadata": {},
   "outputs": [],
   "source": [
    "from sklearn.model_selection import train_test_split\n",
    "x_train,x_test,y_train,y_test=train_test_split(X,Y,test_size=0.30, random_state=42,shuffle=True)"
   ]
  },
  {
   "cell_type": "code",
   "execution_count": null,
   "id": "e7a1f4fc",
   "metadata": {},
   "outputs": [],
   "source": [
    "from sklearn.linear_model import LinearRegression\n",
    "model=LinearRegression(fit_intercept=True)\n",
    "model.fit(x_train,y_train)\n",
    "y_pred=model.predict(x_test)"
   ]
  },
  {
   "cell_type": "code",
   "execution_count": null,
   "id": "818d7e43",
   "metadata": {},
   "outputs": [],
   "source": [
    "from sklearn.metrics import r2_score\n",
    "r2=r2_score(y_true=y_test,y_pred=y_pred)\n",
    "r2"
   ]
  },
  {
   "cell_type": "code",
   "execution_count": null,
   "id": "0d5c6543",
   "metadata": {},
   "outputs": [],
   "source": [
    "from sklearn.metrics import mean_absolute_error\n",
    "mae=mean_absolute_error(y_true=y_test,y_pred=y_pred)\n",
    "mae"
   ]
  },
  {
   "cell_type": "code",
   "execution_count": null,
   "id": "b4293271",
   "metadata": {},
   "outputs": [],
   "source": [
    "from sklearn.metrics import root_mean_squared_error\n",
    "rmae=root_mean_squared_error(y_true=y_test,y_pred=y_pred)\n",
    "rmae"
   ]
  },
  {
   "cell_type": "code",
   "execution_count": null,
   "id": "6edaf77b",
   "metadata": {},
   "outputs": [],
   "source": [
    "coefs=model.coef_\n",
    "coefs"
   ]
  },
  {
   "cell_type": "code",
   "execution_count": null,
   "id": "cbdafc58",
   "metadata": {},
   "outputs": [],
   "source": [
    "intercept=model.intercept_\n",
    "intercept"
   ]
  },
  {
   "cell_type": "code",
   "execution_count": null,
   "id": "5e3c2080",
   "metadata": {},
   "outputs": [],
   "source": [
    "for i in range(len(x_train.columns)):\n",
    "    print(coefs[i],\"*\",x_train.columns[i],end=\" + \\n\")\n",
    "print(intercept)"
   ]
  }
 ],
 "metadata": {
  "kernelspec": {
   "display_name": "Python 3",
   "language": "python",
   "name": "python3"
  },
  "language_info": {
   "codemirror_mode": {
    "name": "ipython",
    "version": 3
   },
   "file_extension": ".py",
   "mimetype": "text/x-python",
   "name": "python",
   "nbconvert_exporter": "python",
   "pygments_lexer": "ipython3",
   "version": "3.13.7"
  }
 },
 "nbformat": 4,
 "nbformat_minor": 5
}
